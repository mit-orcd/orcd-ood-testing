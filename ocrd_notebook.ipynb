{
 "cells": [
  {
   "cell_type": "code",
   "execution_count": 1,
   "metadata": {},
   "outputs": [],
   "source": [
    "import pandas as pd\n",
    "import glob\n",
    "from datetime import datetime, timedelta"
   ]
  },
  {
   "cell_type": "code",
   "execution_count": 12,
   "metadata": {},
   "outputs": [
    {
     "name": "stdout",
     "output_type": "stream",
     "text": [
      "25824\n",
      "17589\n",
      "22092\n",
      "19709\n",
      "22532\n",
      "17389\n",
      "12931\n",
      "20429\n",
      "21664\n",
      "40965\n",
      "43672\n",
      "38638\n",
      "26560\n",
      "13271\n",
      "15330\n",
      "10507\n",
      "9175\n",
      "18052\n",
      "87320\n",
      "38496\n",
      "13927\n",
      "40878\n",
      "33620\n",
      "43157\n",
      "30638\n",
      "30559\n",
      "12246\n",
      "17198\n",
      "24555\n",
      "768923\n"
     ]
    }
   ],
   "source": [
    "file_list = glob.glob('sacct_*.lst')\n",
    "df_list = []\n",
    "sum_rows = 0\n",
    "print(\"hello\")\n",
    "for file in file_list:\n",
    "    df = pd.read_csv(file, delimiter='|', low_memory=False,on_bad_lines='skip')\n",
    "    sum_rows += df.shape[0]\n",
    "    print(df.shape[0])\n",
    "    df_list.append(df)\n",
    "# file_path = 'sacct_2024-09-01_2024-09-02_X.lst'\n",
    "\n",
    "print(sum_rows)\n",
    "# data = pd.read_csv(file_path, delimiter='|')"
   ]
  },
  {
   "cell_type": "code",
   "execution_count": 13,
   "metadata": {},
   "outputs": [],
   "source": [
    "combined_df = pd.concat(df_list, ignore_index=True, join='outer')\n",
    "summary_stats = combined_df.describe()"
   ]
  },
  {
   "cell_type": "code",
   "execution_count": 26,
   "metadata": {},
   "outputs": [],
   "source": [
    "summary_stats = combined_df.describe()\n",
    "combined_df['CPUTimeRAW'] = pd.to_numeric(combined_df['CPUTimeRAW'], errors='coerce')\n",
    "combined_df['AllocCPUS'] = pd.to_numeric(combined_df['AllocCPUS'], errors='coerce')\n",
    "combined_df['AllocNodes'] = pd.to_numeric(combined_df['AllocNodes'], errors='coerce')\n",
    "\n",
    "# Group by 'User' and aggregate CPUTime and WallTime (example columns)\n",
    "grouped_summary = combined_df.groupby('User').agg({\n",
    "    'CPUTimeRAW': 'sum',\n",
    "    'AllocCPUS':'sum',\n",
    "    'AllocNodes':'sum',\n",
    "    'JobID': 'count'\n",
    "})\n",
    "grouped_summary = grouped_summary.rename(columns={'JobID': 'Total Number of Jobs'})"
   ]
  },
  {
   "cell_type": "code",
   "execution_count": 27,
   "metadata": {},
   "outputs": [],
   "source": [
    "def convert_seconds(seconds):\n",
    "    days, remainder = divmod(seconds, 86400)   # 86400 seconds in a day\n",
    "    hours, remainder = divmod(remainder, 3600) # 3600 seconds in an hour\n",
    "    minutes, seconds = divmod(remainder, 60)   # 60 seconds in a minute\n",
    "    return f\"{int(days)}:{int(hours):02}:{int(minutes):02}:{int(seconds):02}\"\n",
    "\n",
    "# Applying this to the 'CPUTimeRAW' column after summing\n",
    "grouped_summary['CPUTime'] = grouped_summary['CPUTimeRAW'].apply(convert_seconds)\n"
   ]
  },
  {
   "cell_type": "code",
   "execution_count": 28,
   "metadata": {},
   "outputs": [
    {
     "name": "stdout",
     "output_type": "stream",
     "text": [
      "           CPUTimeRAW  AllocCPUS  AllocNodes  JobID        CPUTime\n",
      "User                                                              \n",
      "a_coe          8890.0        4.0         2.0      2     0:02:28:10\n",
      "aarobins      73455.0       11.0         6.0      6     0:20:24:15\n",
      "aaron593  126845184.0    14060.0       263.0    283  1468:02:46:24\n",
      "aaronkho  106546016.0    68585.0      1079.0   1088  1233:04:06:56\n",
      "aarons42     993972.0      106.0        26.0     27    11:12:06:12\n",
      "...               ...        ...         ...    ...            ...\n",
      "zikai      20602802.0      980.0       929.0    929   238:11:00:02\n",
      "zimi          98964.0       20.0        19.0     20     1:03:29:24\n",
      "zinelis      131285.0      699.0        17.0     57     1:12:28:05\n",
      "ziqili      3086314.0      301.0        97.0    141    35:17:18:34\n",
      "zqshen      1631874.0     1286.0       148.0    150    18:21:17:54\n",
      "\n",
      "[508 rows x 5 columns]\n"
     ]
    }
   ],
   "source": [
    "print(grouped_summary)"
   ]
  }
 ],
 "metadata": {
  "kernelspec": {
   "display_name": "Python 3",
   "language": "python",
   "name": "python3"
  },
  "language_info": {
   "codemirror_mode": {
    "name": "ipython",
    "version": 3
   },
   "file_extension": ".py",
   "mimetype": "text/x-python",
   "name": "python",
   "nbconvert_exporter": "python",
   "pygments_lexer": "ipython3",
   "version": "3.11.4"
  }
 },
 "nbformat": 4,
 "nbformat_minor": 2
}
